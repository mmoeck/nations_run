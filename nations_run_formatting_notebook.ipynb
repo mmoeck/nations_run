{
 "cells": [
  {
   "cell_type": "code",
   "execution_count": 1,
   "metadata": {},
   "outputs": [],
   "source": [
    "import pandas as pd\n",
    "\n",
    "# Read the CSV file\n",
    "df_nations_run = pd.read_csv('Nations_Run_New.csv')"
   ]
  },
  {
   "attachments": {},
   "cell_type": "markdown",
   "metadata": {},
   "source": [
    "TODO:\n",
    "- Einzelne Spenderlisten umwandeln in dicts\n",
    "- Naming der Spalten umwandeln\n",
    "- Hinzufügen der einzelnen dicts zum jeweiligen Pandas frame\n",
    "- Ct Angaben müssen umgewandelt werden."
   ]
  },
  {
   "cell_type": "code",
   "execution_count": 2,
   "metadata": {},
   "outputs": [
    {
     "name": "stdout",
     "output_type": "stream",
     "text": [
      "33    Spender Name: Sharon Arabadzic, Spender E-Mail...\n",
      "Name: Spenderliste, dtype: object\n"
     ]
    }
   ],
   "source": [
    "df_nations_run_slice = df_nations_run.loc[df_nations_run['Name'] == 'Eva Trapp']['Spenderliste']\n",
    "print(df_nations_run_slice)"
   ]
  },
  {
   "cell_type": "code",
   "execution_count": 3,
   "metadata": {},
   "outputs": [
    {
     "data": {
      "text/plain": [
       "40"
      ]
     },
     "execution_count": 3,
     "metadata": {},
     "output_type": "execute_result"
    }
   ],
   "source": [
    "len(df_nations_run)"
   ]
  },
  {
   "cell_type": "code",
   "execution_count": 4,
   "metadata": {},
   "outputs": [
    {
     "name": "stdout",
     "output_type": "stream",
     "text": [
      "-----LaeuferName: Chris  Brandt -----------\n",
      "-----LaeuferName: Specht Corinne und Simon -----------\n",
      "-----LaeuferName: Kelly Weinand -----------\n",
      "-----LaeuferName: Silas Specht -----------\n",
      "-----LaeuferName: Tabea Kirschbaum -----------\n",
      "-----LaeuferName: Silas Reich -----------\n",
      "-----LaeuferName: Ilja Zimmermann -----------\n",
      "['Spender Name: Ines Hämmerle ', 'Spender E-Mail: ines.haemmerle1@gmail.com', 'Betrag pro Runde: 1€', 'Höchstbetrag: ', 'Festbetrag: ']\n",
      "-----LaeuferName: Michal Mlinaric  -----------\n",
      "-----LaeuferName: Lara Fuchser -----------\n",
      "-----LaeuferName: Sarah Esau -----------\n",
      "-----LaeuferName: Ann-Cathrin Porsche -----------\n",
      "-----LaeuferName: Amana Beck -----------\n",
      "-----LaeuferName: Marvin Franz -----------\n",
      "-----LaeuferName: Benni Monschau -----------\n",
      "-----LaeuferName: Jakob  Pahnke  -----------\n",
      "-----LaeuferName: Tabea Zeller -----------\n",
      "-----LaeuferName: Yasmin Becker -----------\n",
      "-----LaeuferName: Simone  Nestler  -----------\n",
      "-----LaeuferName: Matijas Kocijan -----------\n",
      "-----LaeuferName: Elina Cora Neumann -----------\n",
      "['Spender Name: Judith Ponari', 'Spender E-Mail: judith_die_beste@web.de', 'Betrag pro Runde: ', 'Höchstbetrag: ', 'Festbetrag: 50€']\n",
      "['Spender Name: Tabita Mock', 'Spender E-Mail: mocktabita@gmail.com', 'Betrag pro Runde: 1€', 'Höchstbetrag: ', 'Festbetrag: ']\n",
      "-----LaeuferName: Selina  Gropper  -----------\n",
      "['Spender Name: Friederike Unseld', 'Spender E-Mail: friederike.unseld@googlemail.com', 'Betrag pro Runde: ', 'Höchstbetrag: ', 'Festbetrag: 30€ ']\n",
      "['Spender Name: Walter Leiprecht ', 'Spender E-Mail: walter-leiprecht@t-online.de', 'Betrag pro Runde: ', 'Höchstbetrag: ', 'Festbetrag: 50€ ']\n",
      "['Spender Name: Thaisen Schele ', 'Spender E-Mail: Thson.ts@gmail.com', 'Betrag pro Runde: ', 'Höchstbetrag: ', 'Festbetrag: 50€']\n",
      "['Spender Name: Sandra Merk ', 'Spender E-Mail: merksandra@gmail.com', 'Betrag pro Runde: ', 'Höchstbetrag: ', 'Festbetrag: 30€ ']\n",
      "['Spender Name: Felix Freiberg ', 'Spender E-Mail: felixfreiberg@icloud.com', 'Betrag pro Runde: 2€ ', 'Höchstbetrag: ', 'Festbetrag: ']\n",
      "['Spender Name: Farben Gropper ', 'Spender E-Mail: Info@farbengropper.de ', 'Betrag pro Runde: 5€', 'Höchstbetrag: ', 'Festbetrag: ']\n",
      "['Spender Name: Linnéa Iller ', 'Spender E-Mail: Relliaennil@gmail.com', 'Betrag pro Runde: ', 'Höchstbetrag: ', 'Festbetrag: 10€ ']\n",
      "['Spender Name: Milan Schick ', 'Spender E-Mail: milan-schick@web.de', 'Betrag pro Runde: ', 'Höchstbetrag: ', 'Festbetrag: 25€']\n",
      "-----LaeuferName: Deniz Richter -----------\n",
      "['Spender Name: PFEIFFER & MAY', 'Spender E-Mail: Alexandra.vigehls@pum.de', 'Betrag pro Runde: 20', 'Höchstbetrag: ', 'Festbetrag: ']\n",
      "-----LaeuferName: Kristian Hristov -----------\n",
      "-----LaeuferName: Joah Kubach -----------\n",
      "-----LaeuferName: Benaja Kunzmann -----------\n",
      "-----LaeuferName: Timea Kunzmann -----------\n",
      "-----LaeuferName: Ellen  Kunzmann -----------\n",
      "-----LaeuferName: Philipp Walz -----------\n",
      "-----LaeuferName: Sarah Fassnacht -----------\n",
      "-----LaeuferName: Tabea Walz -----------\n",
      "-----LaeuferName: Nadine  Traut  -----------\n",
      "['Spender Name: Gabi Aniol-Dietrich', 'Spender E-Mail: Gabianioldietrich@t-online.de', 'Betrag pro Runde: ', 'Höchstbetrag: ', 'Festbetrag: 100€']\n",
      "-----LaeuferName: Tim Zimmermann -----------\n",
      "-----LaeuferName: Anne von Chamier  -----------\n",
      "['Spender Name: Lisa Erlenwein', 'Spender E-Mail: firework_erl@web.de', 'Betrag pro Runde: ', 'Höchstbetrag: ', 'Festbetrag: 100,00']\n",
      "-----LaeuferName: Eva Trapp -----------\n",
      "['Spender Name: Sharon Arabadzic', 'Spender E-Mail: sharon.arabadzic@gmail.com', 'Betrag pro Runde: 1', 'Höchstbetrag: ', 'Festbetrag: ']\n",
      "['Spender Name: Michelle Meyer', 'Spender E-Mail: michelle.meyer@gmx.de', 'Betrag pro Runde: ', 'Höchstbetrag: ', 'Festbetrag: 15']\n",
      "['Spender Name: Ursula und Günter Trapp', 'Spender E-Mail: u.u.g.trapp@freenet.de', 'Betrag pro Runde: ', 'Höchstbetrag: ', 'Festbetrag: 50']\n",
      "['Spender Name: Alexander Merkel', 'Spender E-Mail: merkel.alexand@googlemail.com', 'Betrag pro Runde: ', 'Höchstbetrag: ', 'Festbetrag: 40']\n",
      "-----LaeuferName: Ruben Schulze -----------\n",
      "-----LaeuferName: Tim Zimmermann -----------\n",
      "-----LaeuferName: Kornelia Olivier -----------\n",
      "-----LaeuferName: Sarah-Lisa Nikesch -----------\n",
      "-----LaeuferName: Ronja Pohl -----------\n",
      "-----LaeuferName: Mateo Pohl -----------\n"
     ]
    }
   ],
   "source": [
    "runner_spender_dict = {\n",
    "    'Laeufer_Name': [],\n",
    "    'Spender_Name': [],\n",
    "    'Spender_Mail': [],\n",
    "    'Spender_Runde': [],\n",
    "    'Spender_Hoechst': [],\n",
    "    'Spender_Fest': []\n",
    "}\n",
    "\n",
    "for index in range(len(df_nations_run)):\n",
    "    # Split the string after comma and space\n",
    "    #print('-----LaeuferName:', df_nations_run.loc[index]['Vorname'], df_nations_run.loc[index]['Nachname'], '-----------')\n",
    "    print('-----LaeuferName:', df_nations_run.loc[index]['Name'], '-----------')\n",
    "    #laeufer_name = df_nations_run.loc[index]['Vorname'] + \" \" + df_nations_run.loc[index]['Nachname']\n",
    "    spenders_per_runner = str(df_nations_run.loc[index]['Spenderliste']).split(\"\\n\")\n",
    "    for spender_per_runner in spenders_per_runner:\n",
    "        spender_details = spender_per_runner.split(\", \")\n",
    "        if len(spender_details) < 2:\n",
    "            continue\n",
    "        print(spender_details)\n",
    "        runner_spender_dict[\"Laeufer_Name\"].append(df_nations_run.loc[index][\"Name\"])\n",
    "        runner_spender_dict[\"Spender_Name\"].append(spender_details[0].split(\": \", 1)[1])\n",
    "        runner_spender_dict[\"Spender_Mail\"].append(spender_details[1].split(\": \", 1)[1])\n",
    "        runner_spender_dict[\"Spender_Runde\"].append(spender_details[2].split(\": \", 1)[1])\n",
    "        runner_spender_dict[\"Spender_Hoechst\"].append(spender_details[3].split(\": \", 1)[1])\n",
    "        runner_spender_dict[\"Spender_Fest\"].append(spender_details[4].split(\": \", 1)[1])\n",
    "\n",
    "    # Display the separated parts"
   ]
  },
  {
   "cell_type": "code",
   "execution_count": 18,
   "metadata": {},
   "outputs": [
    {
     "name": "stdout",
     "output_type": "stream",
     "text": [
      "382\n",
      "382\n",
      "382\n",
      "382\n",
      "382\n"
     ]
    }
   ],
   "source": [
    "print(len(runner_spender_dict['Laeufer_Name']))\n",
    "print(len(runner_spender_dict['Spender_Name']))\n",
    "print(len(runner_spender_dict['Spender_Mail']))\n",
    "print(len(runner_spender_dict['Spender_Runde']))\n",
    "print(len(runner_spender_dict['Spender_Hoechst']))"
   ]
  },
  {
   "cell_type": "code",
   "execution_count": 19,
   "metadata": {},
   "outputs": [],
   "source": [
    "df_spender = pd.DataFrame.from_dict(runner_spender_dict)"
   ]
  },
  {
   "cell_type": "code",
   "execution_count": 22,
   "metadata": {},
   "outputs": [],
   "source": [
    "df_spender.to_excel('spender_new.xlsx', index=False)"
   ]
  }
 ],
 "metadata": {
  "kernelspec": {
   "display_name": "Python 3",
   "language": "python",
   "name": "python3"
  },
  "language_info": {
   "codemirror_mode": {
    "name": "ipython",
    "version": 3
   },
   "file_extension": ".py",
   "mimetype": "text/x-python",
   "name": "python",
   "nbconvert_exporter": "python",
   "pygments_lexer": "ipython3",
   "version": "3.11.3"
  },
  "orig_nbformat": 4
 },
 "nbformat": 4,
 "nbformat_minor": 2
}
