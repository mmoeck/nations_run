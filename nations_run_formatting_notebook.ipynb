{
 "cells": [
  {
   "cell_type": "code",
   "execution_count": null,
   "metadata": {},
   "outputs": [],
   "source": [
    "import pandas as pd\n",
    "\n",
    "# Read the CSV file\n",
    "df_nations_run = pd.read_csv('Nations_Run_New.csv') # some Edit"
   ]
  },
  {
   "attachments": {},
   "cell_type": "markdown",
   "metadata": {},
   "source": [
    "TODO:\n",
    "- Einzelne Spenderlisten umwandeln in dicts\n",
    "- Naming der Spalten umwandeln\n",
    "- Hinzufügen der einzelnen dicts zum jeweiligen Pandas frame\n",
    "- Ct Angaben müssen umgewandelt werden."
   ]
  },
  {
   "cell_type": "code",
   "execution_count": null,
   "metadata": {},
   "outputs": [],
   "source": [
    "len(df_nations_run)"
   ]
  },
  {
   "cell_type": "code",
   "execution_count": null,
   "metadata": {},
   "outputs": [],
   "source": [
    "runner_spender_dict = {\n",
    "    'Laeufer_Name': [],\n",
    "    'Spender_Name': [],\n",
    "    'Spender_Mail': [],\n",
    "    'Spender_Runde': [],\n",
    "    'Spender_Hoechst': [],\n",
    "    'Spender_Fest': []\n",
    "}\n",
    "\n",
    "for index in range(len(df_nations_run)):\n",
    "    # Split the string after comma and space\n",
    "    #print('-----LaeuferName:', df_nations_run.loc[index]['Vorname'], df_nations_run.loc[index]['Nachname'], '-----------')\n",
    "    print('-----LaeuferName:', df_nations_run.loc[index]['Name'], '-----------')\n",
    "    #laeufer_name = df_nations_run.loc[index]['Vorname'] + \" \" + df_nations_run.loc[index]['Nachname']\n",
    "    spenders_per_runner = str(df_nations_run.loc[index]['Spenderliste']).split(\"\\n\")\n",
    "    for spender_per_runner in spenders_per_runner:\n",
    "        spender_details = spender_per_runner.split(\", \")\n",
    "        if len(spender_details) < 2:\n",
    "            continue\n",
    "        print(spender_details)\n",
    "        runner_spender_dict[\"Laeufer_Name\"].append(df_nations_run.loc[index][\"Name\"])\n",
    "        runner_spender_dict[\"Spender_Name\"].append(spender_details[0].split(\": \", 1)[1])\n",
    "        runner_spender_dict[\"Spender_Mail\"].append(spender_details[1].split(\": \", 1)[1])\n",
    "        runner_spender_dict[\"Spender_Runde\"].append(spender_details[2].split(\": \", 1)[1])\n",
    "        runner_spender_dict[\"Spender_Hoechst\"].append(spender_details[3].split(\": \", 1)[1])\n",
    "        runner_spender_dict[\"Spender_Fest\"].append(spender_details[4].split(\": \", 1)[1])\n",
    "\n",
    "    # Display the separated parts"
   ]
  },
  {
   "cell_type": "code",
   "execution_count": null,
   "metadata": {},
   "outputs": [],
   "source": [
    "print(len(runner_spender_dict['Laeufer_Name']))\n",
    "print(len(runner_spender_dict['Spender_Name']))\n",
    "print(len(runner_spender_dict['Spender_Mail']))\n",
    "print(len(runner_spender_dict['Spender_Runde']))\n",
    "print(len(runner_spender_dict['Spender_Hoechst']))"
   ]
  },
  {
   "cell_type": "code",
   "execution_count": null,
   "metadata": {},
   "outputs": [],
   "source": [
    "df_spender = pd.DataFrame.from_dict(runner_spender_dict)"
   ]
  },
  {
   "cell_type": "code",
   "execution_count": null,
   "metadata": {},
   "outputs": [],
   "source": [
    "df_spender.to_excel('spender_new.xlsx', index=False)"
   ]
  }
 ],
 "metadata": {
  "kernelspec": {
   "display_name": "Python 3",
   "language": "python",
   "name": "python3"
  },
  "language_info": {
   "codemirror_mode": {
    "name": "ipython",
    "version": 3
   },
   "file_extension": ".py",
   "mimetype": "text/x-python",
   "name": "python",
   "nbconvert_exporter": "python",
   "pygments_lexer": "ipython3",
   "version": "3.11.3"
  },
  "orig_nbformat": 4
 },
 "nbformat": 4,
 "nbformat_minor": 2
}
